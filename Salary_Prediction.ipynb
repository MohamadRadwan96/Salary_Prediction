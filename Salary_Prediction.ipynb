{
  "nbformat": 4,
  "nbformat_minor": 0,
  "metadata": {
    "colab": {
      "name": "Untitled34_(5) (1).ipynb",
      "provenance": [],
      "collapsed_sections": [],
      "toc_visible": true
    },
    "kernelspec": {
      "name": "python3",
      "display_name": "Python 3"
    },
    "language_info": {
      "name": "python"
    }
  },
  "cells": [
    {
      "cell_type": "markdown",
      "metadata": {
        "id": "jdPNCxEwD3a2"
      },
      "source": [
        "#**Salary Predictions Based on Job Descriptions**"
      ]
    },
    {
      "cell_type": "code",
      "metadata": {
        "id": "Z9t4t_Xin8y0"
      },
      "source": [
        "__author__ = \"Mohamad Radwan\"\n",
        "__email__ = \"mohrad96@hotmail.com\""
      ],
      "execution_count": 1,
      "outputs": []
    },
    {
      "cell_type": "markdown",
      "metadata": {
        "id": "WKI3y0lr0-F1"
      },
      "source": [
        "In this project, we are tasked with finding an appropriate model to predict salaries based on 7 features. This can help HR employees develop appropriate salary ranges for new positions to be offered in their respective companies. Exploratory Data Analysis is performed first, and then Predictive Modeling using feature engineering is done where GradientBoostingRegressor turns out to be the best model. Afterwards, the results are displayed and saved(deployed)."
      ]
    },
    {
      "cell_type": "markdown",
      "metadata": {
        "id": "UWLbujj_GdjX"
      },
      "source": [
        "##<b>Exploratory Data Analysis\n",
        "\n",
        "This script loads, explores, and visualizes the salary prediction datasets"
      ]
    },
    {
      "cell_type": "code",
      "metadata": {
        "id": "S2CXzsU7IfT3"
      },
      "source": [
        "import numpy as np\n",
        "import pandas as pd\n",
        "import matplotlib.pyplot as plt\n",
        "import seaborn as sns\n",
        "% matplotlib inline"
      ],
      "execution_count": 2,
      "outputs": []
    },
    {
      "cell_type": "markdown",
      "metadata": {
        "id": "OzOGYhlYH-uV"
      },
      "source": [
        "###**Load the data**"
      ]
    },
    {
      "cell_type": "code",
      "metadata": {
        "id": "Ewq8ODUy_2lx"
      },
      "source": [
        "# Unzip the rar file\n",
        "get_ipython().system_raw(\"unrar x data.rar\")"
      ],
      "execution_count": 3,
      "outputs": []
    },
    {
      "cell_type": "code",
      "metadata": {
        "id": "B-AwNOM5IShz"
      },
      "source": [
        "# Read in files \n",
        "train_feature_df = pd.read_csv('data/train_features.csv')\n",
        "train_target_df = pd.read_csv('data/train_salaries.csv')\n",
        "test_feature_df = pd.read_csv('data/test_features.csv')"
      ],
      "execution_count": 4,
      "outputs": []
    },
    {
      "cell_type": "markdown",
      "metadata": {
        "id": "758rGTPTBMg5"
      },
      "source": [
        "###**Examine the data**"
      ]
    },
    {
      "cell_type": "code",
      "metadata": {
        "id": "Dpapm7tvX4vh",
        "colab": {
          "base_uri": "https://localhost:8080/",
          "height": 360
        },
        "outputId": "22153270-8f3c-406b-a34a-cdbd59e02241"
      },
      "source": [
        "train_feature_df.head(10)"
      ],
      "execution_count": 5,
      "outputs": [
        {
          "output_type": "execute_result",
          "data": {
            "text/html": [
              "<div>\n",
              "<style scoped>\n",
              "    .dataframe tbody tr th:only-of-type {\n",
              "        vertical-align: middle;\n",
              "    }\n",
              "\n",
              "    .dataframe tbody tr th {\n",
              "        vertical-align: top;\n",
              "    }\n",
              "\n",
              "    .dataframe thead th {\n",
              "        text-align: right;\n",
              "    }\n",
              "</style>\n",
              "<table border=\"1\" class=\"dataframe\">\n",
              "  <thead>\n",
              "    <tr style=\"text-align: right;\">\n",
              "      <th></th>\n",
              "      <th>jobId</th>\n",
              "      <th>companyId</th>\n",
              "      <th>jobType</th>\n",
              "      <th>degree</th>\n",
              "      <th>major</th>\n",
              "      <th>industry</th>\n",
              "      <th>yearsExperience</th>\n",
              "      <th>milesFromMetropolis</th>\n",
              "    </tr>\n",
              "  </thead>\n",
              "  <tbody>\n",
              "    <tr>\n",
              "      <th>0</th>\n",
              "      <td>JOB1362684407687</td>\n",
              "      <td>COMP37</td>\n",
              "      <td>CFO</td>\n",
              "      <td>MASTERS</td>\n",
              "      <td>MATH</td>\n",
              "      <td>HEALTH</td>\n",
              "      <td>10</td>\n",
              "      <td>83</td>\n",
              "    </tr>\n",
              "    <tr>\n",
              "      <th>1</th>\n",
              "      <td>JOB1362684407688</td>\n",
              "      <td>COMP19</td>\n",
              "      <td>CEO</td>\n",
              "      <td>HIGH_SCHOOL</td>\n",
              "      <td>NONE</td>\n",
              "      <td>WEB</td>\n",
              "      <td>3</td>\n",
              "      <td>73</td>\n",
              "    </tr>\n",
              "    <tr>\n",
              "      <th>2</th>\n",
              "      <td>JOB1362684407689</td>\n",
              "      <td>COMP52</td>\n",
              "      <td>VICE_PRESIDENT</td>\n",
              "      <td>DOCTORAL</td>\n",
              "      <td>PHYSICS</td>\n",
              "      <td>HEALTH</td>\n",
              "      <td>10</td>\n",
              "      <td>38</td>\n",
              "    </tr>\n",
              "    <tr>\n",
              "      <th>3</th>\n",
              "      <td>JOB1362684407690</td>\n",
              "      <td>COMP38</td>\n",
              "      <td>MANAGER</td>\n",
              "      <td>DOCTORAL</td>\n",
              "      <td>CHEMISTRY</td>\n",
              "      <td>AUTO</td>\n",
              "      <td>8</td>\n",
              "      <td>17</td>\n",
              "    </tr>\n",
              "    <tr>\n",
              "      <th>4</th>\n",
              "      <td>JOB1362684407691</td>\n",
              "      <td>COMP7</td>\n",
              "      <td>VICE_PRESIDENT</td>\n",
              "      <td>BACHELORS</td>\n",
              "      <td>PHYSICS</td>\n",
              "      <td>FINANCE</td>\n",
              "      <td>8</td>\n",
              "      <td>16</td>\n",
              "    </tr>\n",
              "    <tr>\n",
              "      <th>5</th>\n",
              "      <td>JOB1362684407692</td>\n",
              "      <td>COMP15</td>\n",
              "      <td>MANAGER</td>\n",
              "      <td>DOCTORAL</td>\n",
              "      <td>COMPSCI</td>\n",
              "      <td>FINANCE</td>\n",
              "      <td>2</td>\n",
              "      <td>31</td>\n",
              "    </tr>\n",
              "    <tr>\n",
              "      <th>6</th>\n",
              "      <td>JOB1362684407693</td>\n",
              "      <td>COMP15</td>\n",
              "      <td>CFO</td>\n",
              "      <td>NONE</td>\n",
              "      <td>NONE</td>\n",
              "      <td>HEALTH</td>\n",
              "      <td>23</td>\n",
              "      <td>24</td>\n",
              "    </tr>\n",
              "    <tr>\n",
              "      <th>7</th>\n",
              "      <td>JOB1362684407694</td>\n",
              "      <td>COMP24</td>\n",
              "      <td>JUNIOR</td>\n",
              "      <td>BACHELORS</td>\n",
              "      <td>CHEMISTRY</td>\n",
              "      <td>EDUCATION</td>\n",
              "      <td>9</td>\n",
              "      <td>70</td>\n",
              "    </tr>\n",
              "    <tr>\n",
              "      <th>8</th>\n",
              "      <td>JOB1362684407695</td>\n",
              "      <td>COMP20</td>\n",
              "      <td>JANITOR</td>\n",
              "      <td>HIGH_SCHOOL</td>\n",
              "      <td>NONE</td>\n",
              "      <td>EDUCATION</td>\n",
              "      <td>1</td>\n",
              "      <td>54</td>\n",
              "    </tr>\n",
              "    <tr>\n",
              "      <th>9</th>\n",
              "      <td>JOB1362684407696</td>\n",
              "      <td>COMP41</td>\n",
              "      <td>VICE_PRESIDENT</td>\n",
              "      <td>BACHELORS</td>\n",
              "      <td>CHEMISTRY</td>\n",
              "      <td>AUTO</td>\n",
              "      <td>17</td>\n",
              "      <td>68</td>\n",
              "    </tr>\n",
              "  </tbody>\n",
              "</table>\n",
              "</div>"
            ],
            "text/plain": [
              "              jobId companyId  ... yearsExperience milesFromMetropolis\n",
              "0  JOB1362684407687    COMP37  ...              10                  83\n",
              "1  JOB1362684407688    COMP19  ...               3                  73\n",
              "2  JOB1362684407689    COMP52  ...              10                  38\n",
              "3  JOB1362684407690    COMP38  ...               8                  17\n",
              "4  JOB1362684407691     COMP7  ...               8                  16\n",
              "5  JOB1362684407692    COMP15  ...               2                  31\n",
              "6  JOB1362684407693    COMP15  ...              23                  24\n",
              "7  JOB1362684407694    COMP24  ...               9                  70\n",
              "8  JOB1362684407695    COMP20  ...               1                  54\n",
              "9  JOB1362684407696    COMP41  ...              17                  68\n",
              "\n",
              "[10 rows x 8 columns]"
            ]
          },
          "metadata": {
            "tags": []
          },
          "execution_count": 5
        }
      ]
    },
    {
      "cell_type": "code",
      "metadata": {
        "colab": {
          "base_uri": "https://localhost:8080/",
          "height": 360
        },
        "id": "8eCgn2bxBSFX",
        "outputId": "2a153af4-3e11-4737-bbd0-b3e53e330d63"
      },
      "source": [
        "test_feature_df.head(10)"
      ],
      "execution_count": 6,
      "outputs": [
        {
          "output_type": "execute_result",
          "data": {
            "text/html": [
              "<div>\n",
              "<style scoped>\n",
              "    .dataframe tbody tr th:only-of-type {\n",
              "        vertical-align: middle;\n",
              "    }\n",
              "\n",
              "    .dataframe tbody tr th {\n",
              "        vertical-align: top;\n",
              "    }\n",
              "\n",
              "    .dataframe thead th {\n",
              "        text-align: right;\n",
              "    }\n",
              "</style>\n",
              "<table border=\"1\" class=\"dataframe\">\n",
              "  <thead>\n",
              "    <tr style=\"text-align: right;\">\n",
              "      <th></th>\n",
              "      <th>jobId</th>\n",
              "      <th>companyId</th>\n",
              "      <th>jobType</th>\n",
              "      <th>degree</th>\n",
              "      <th>major</th>\n",
              "      <th>industry</th>\n",
              "      <th>yearsExperience</th>\n",
              "      <th>milesFromMetropolis</th>\n",
              "    </tr>\n",
              "  </thead>\n",
              "  <tbody>\n",
              "    <tr>\n",
              "      <th>0</th>\n",
              "      <td>JOB1362685407687</td>\n",
              "      <td>COMP33</td>\n",
              "      <td>MANAGER</td>\n",
              "      <td>HIGH_SCHOOL</td>\n",
              "      <td>NONE</td>\n",
              "      <td>HEALTH</td>\n",
              "      <td>22</td>\n",
              "      <td>73</td>\n",
              "    </tr>\n",
              "    <tr>\n",
              "      <th>1</th>\n",
              "      <td>JOB1362685407688</td>\n",
              "      <td>COMP13</td>\n",
              "      <td>JUNIOR</td>\n",
              "      <td>NONE</td>\n",
              "      <td>NONE</td>\n",
              "      <td>AUTO</td>\n",
              "      <td>20</td>\n",
              "      <td>47</td>\n",
              "    </tr>\n",
              "    <tr>\n",
              "      <th>2</th>\n",
              "      <td>JOB1362685407689</td>\n",
              "      <td>COMP10</td>\n",
              "      <td>CTO</td>\n",
              "      <td>MASTERS</td>\n",
              "      <td>BIOLOGY</td>\n",
              "      <td>HEALTH</td>\n",
              "      <td>17</td>\n",
              "      <td>9</td>\n",
              "    </tr>\n",
              "    <tr>\n",
              "      <th>3</th>\n",
              "      <td>JOB1362685407690</td>\n",
              "      <td>COMP21</td>\n",
              "      <td>MANAGER</td>\n",
              "      <td>HIGH_SCHOOL</td>\n",
              "      <td>NONE</td>\n",
              "      <td>OIL</td>\n",
              "      <td>14</td>\n",
              "      <td>96</td>\n",
              "    </tr>\n",
              "    <tr>\n",
              "      <th>4</th>\n",
              "      <td>JOB1362685407691</td>\n",
              "      <td>COMP36</td>\n",
              "      <td>JUNIOR</td>\n",
              "      <td>DOCTORAL</td>\n",
              "      <td>BIOLOGY</td>\n",
              "      <td>OIL</td>\n",
              "      <td>10</td>\n",
              "      <td>44</td>\n",
              "    </tr>\n",
              "    <tr>\n",
              "      <th>5</th>\n",
              "      <td>JOB1362685407692</td>\n",
              "      <td>COMP40</td>\n",
              "      <td>CTO</td>\n",
              "      <td>MASTERS</td>\n",
              "      <td>COMPSCI</td>\n",
              "      <td>FINANCE</td>\n",
              "      <td>6</td>\n",
              "      <td>23</td>\n",
              "    </tr>\n",
              "    <tr>\n",
              "      <th>6</th>\n",
              "      <td>JOB1362685407693</td>\n",
              "      <td>COMP32</td>\n",
              "      <td>SENIOR</td>\n",
              "      <td>MASTERS</td>\n",
              "      <td>COMPSCI</td>\n",
              "      <td>SERVICE</td>\n",
              "      <td>6</td>\n",
              "      <td>32</td>\n",
              "    </tr>\n",
              "    <tr>\n",
              "      <th>7</th>\n",
              "      <td>JOB1362685407694</td>\n",
              "      <td>COMP11</td>\n",
              "      <td>CEO</td>\n",
              "      <td>BACHELORS</td>\n",
              "      <td>BIOLOGY</td>\n",
              "      <td>SERVICE</td>\n",
              "      <td>9</td>\n",
              "      <td>73</td>\n",
              "    </tr>\n",
              "    <tr>\n",
              "      <th>8</th>\n",
              "      <td>JOB1362685407695</td>\n",
              "      <td>COMP39</td>\n",
              "      <td>MANAGER</td>\n",
              "      <td>DOCTORAL</td>\n",
              "      <td>PHYSICS</td>\n",
              "      <td>HEALTH</td>\n",
              "      <td>6</td>\n",
              "      <td>78</td>\n",
              "    </tr>\n",
              "    <tr>\n",
              "      <th>9</th>\n",
              "      <td>JOB1362685407696</td>\n",
              "      <td>COMP22</td>\n",
              "      <td>VICE_PRESIDENT</td>\n",
              "      <td>NONE</td>\n",
              "      <td>NONE</td>\n",
              "      <td>AUTO</td>\n",
              "      <td>23</td>\n",
              "      <td>97</td>\n",
              "    </tr>\n",
              "  </tbody>\n",
              "</table>\n",
              "</div>"
            ],
            "text/plain": [
              "              jobId companyId  ... yearsExperience milesFromMetropolis\n",
              "0  JOB1362685407687    COMP33  ...              22                  73\n",
              "1  JOB1362685407688    COMP13  ...              20                  47\n",
              "2  JOB1362685407689    COMP10  ...              17                   9\n",
              "3  JOB1362685407690    COMP21  ...              14                  96\n",
              "4  JOB1362685407691    COMP36  ...              10                  44\n",
              "5  JOB1362685407692    COMP40  ...               6                  23\n",
              "6  JOB1362685407693    COMP32  ...               6                  32\n",
              "7  JOB1362685407694    COMP11  ...               9                  73\n",
              "8  JOB1362685407695    COMP39  ...               6                  78\n",
              "9  JOB1362685407696    COMP22  ...              23                  97\n",
              "\n",
              "[10 rows x 8 columns]"
            ]
          },
          "metadata": {
            "tags": []
          },
          "execution_count": 6
        }
      ]
    },
    {
      "cell_type": "code",
      "metadata": {
        "colab": {
          "base_uri": "https://localhost:8080/",
          "height": 360
        },
        "id": "bTe3VCa2BZDL",
        "outputId": "183cf890-1551-473b-e745-4d4cab33f9f9"
      },
      "source": [
        "train_target_df.head(10)"
      ],
      "execution_count": 7,
      "outputs": [
        {
          "output_type": "execute_result",
          "data": {
            "text/html": [
              "<div>\n",
              "<style scoped>\n",
              "    .dataframe tbody tr th:only-of-type {\n",
              "        vertical-align: middle;\n",
              "    }\n",
              "\n",
              "    .dataframe tbody tr th {\n",
              "        vertical-align: top;\n",
              "    }\n",
              "\n",
              "    .dataframe thead th {\n",
              "        text-align: right;\n",
              "    }\n",
              "</style>\n",
              "<table border=\"1\" class=\"dataframe\">\n",
              "  <thead>\n",
              "    <tr style=\"text-align: right;\">\n",
              "      <th></th>\n",
              "      <th>jobId</th>\n",
              "      <th>salary</th>\n",
              "    </tr>\n",
              "  </thead>\n",
              "  <tbody>\n",
              "    <tr>\n",
              "      <th>0</th>\n",
              "      <td>JOB1362684407687</td>\n",
              "      <td>130</td>\n",
              "    </tr>\n",
              "    <tr>\n",
              "      <th>1</th>\n",
              "      <td>JOB1362684407688</td>\n",
              "      <td>101</td>\n",
              "    </tr>\n",
              "    <tr>\n",
              "      <th>2</th>\n",
              "      <td>JOB1362684407689</td>\n",
              "      <td>137</td>\n",
              "    </tr>\n",
              "    <tr>\n",
              "      <th>3</th>\n",
              "      <td>JOB1362684407690</td>\n",
              "      <td>142</td>\n",
              "    </tr>\n",
              "    <tr>\n",
              "      <th>4</th>\n",
              "      <td>JOB1362684407691</td>\n",
              "      <td>163</td>\n",
              "    </tr>\n",
              "    <tr>\n",
              "      <th>5</th>\n",
              "      <td>JOB1362684407692</td>\n",
              "      <td>113</td>\n",
              "    </tr>\n",
              "    <tr>\n",
              "      <th>6</th>\n",
              "      <td>JOB1362684407693</td>\n",
              "      <td>178</td>\n",
              "    </tr>\n",
              "    <tr>\n",
              "      <th>7</th>\n",
              "      <td>JOB1362684407694</td>\n",
              "      <td>73</td>\n",
              "    </tr>\n",
              "    <tr>\n",
              "      <th>8</th>\n",
              "      <td>JOB1362684407695</td>\n",
              "      <td>31</td>\n",
              "    </tr>\n",
              "    <tr>\n",
              "      <th>9</th>\n",
              "      <td>JOB1362684407696</td>\n",
              "      <td>104</td>\n",
              "    </tr>\n",
              "  </tbody>\n",
              "</table>\n",
              "</div>"
            ],
            "text/plain": [
              "              jobId  salary\n",
              "0  JOB1362684407687     130\n",
              "1  JOB1362684407688     101\n",
              "2  JOB1362684407689     137\n",
              "3  JOB1362684407690     142\n",
              "4  JOB1362684407691     163\n",
              "5  JOB1362684407692     113\n",
              "6  JOB1362684407693     178\n",
              "7  JOB1362684407694      73\n",
              "8  JOB1362684407695      31\n",
              "9  JOB1362684407696     104"
            ]
          },
          "metadata": {
            "tags": []
          },
          "execution_count": 7
        }
      ]
    },
    {
      "cell_type": "markdown",
      "metadata": {
        "id": "DuepKayjB4kR"
      },
      "source": [
        "###**Use .info() to see length and dtypes**"
      ]
    },
    {
      "cell_type": "code",
      "metadata": {
        "colab": {
          "base_uri": "https://localhost:8080/"
        },
        "id": "F1y398uzBuJI",
        "outputId": "00efcf60-ce74-4844-d391-12461ff41c71"
      },
      "source": [
        "train_feature_df.info()"
      ],
      "execution_count": 8,
      "outputs": [
        {
          "output_type": "stream",
          "text": [
            "<class 'pandas.core.frame.DataFrame'>\n",
            "RangeIndex: 1000000 entries, 0 to 999999\n",
            "Data columns (total 8 columns):\n",
            " #   Column               Non-Null Count    Dtype \n",
            "---  ------               --------------    ----- \n",
            " 0   jobId                1000000 non-null  object\n",
            " 1   companyId            1000000 non-null  object\n",
            " 2   jobType              1000000 non-null  object\n",
            " 3   degree               1000000 non-null  object\n",
            " 4   major                1000000 non-null  object\n",
            " 5   industry             1000000 non-null  object\n",
            " 6   yearsExperience      1000000 non-null  int64 \n",
            " 7   milesFromMetropolis  1000000 non-null  int64 \n",
            "dtypes: int64(2), object(6)\n",
            "memory usage: 61.0+ MB\n"
          ],
          "name": "stdout"
        }
      ]
    },
    {
      "cell_type": "code",
      "metadata": {
        "colab": {
          "base_uri": "https://localhost:8080/"
        },
        "id": "acpL1GKYCCPu",
        "outputId": "75ee8aa8-dc70-4402-8469-7ae8238d105a"
      },
      "source": [
        "train_target_df.info()"
      ],
      "execution_count": 9,
      "outputs": [
        {
          "output_type": "stream",
          "text": [
            "<class 'pandas.core.frame.DataFrame'>\n",
            "RangeIndex: 1000000 entries, 0 to 999999\n",
            "Data columns (total 2 columns):\n",
            " #   Column  Non-Null Count    Dtype \n",
            "---  ------  --------------    ----- \n",
            " 0   jobId   1000000 non-null  object\n",
            " 1   salary  1000000 non-null  int64 \n",
            "dtypes: int64(1), object(1)\n",
            "memory usage: 15.3+ MB\n"
          ],
          "name": "stdout"
        }
      ]
    },
    {
      "cell_type": "code",
      "metadata": {
        "colab": {
          "base_uri": "https://localhost:8080/"
        },
        "id": "-bj3d5wbCM2N",
        "outputId": "7c62858f-a1e8-47e0-eb4e-e83b7bbe45e2"
      },
      "source": [
        "test_feature_df.info()"
      ],
      "execution_count": 10,
      "outputs": [
        {
          "output_type": "stream",
          "text": [
            "<class 'pandas.core.frame.DataFrame'>\n",
            "RangeIndex: 1000000 entries, 0 to 999999\n",
            "Data columns (total 8 columns):\n",
            " #   Column               Non-Null Count    Dtype \n",
            "---  ------               --------------    ----- \n",
            " 0   jobId                1000000 non-null  object\n",
            " 1   companyId            1000000 non-null  object\n",
            " 2   jobType              1000000 non-null  object\n",
            " 3   degree               1000000 non-null  object\n",
            " 4   major                1000000 non-null  object\n",
            " 5   industry             1000000 non-null  object\n",
            " 6   yearsExperience      1000000 non-null  int64 \n",
            " 7   milesFromMetropolis  1000000 non-null  int64 \n",
            "dtypes: int64(2), object(6)\n",
            "memory usage: 61.0+ MB\n"
          ],
          "name": "stdout"
        }
      ]
    },
    {
      "cell_type": "markdown",
      "metadata": {
        "id": "B3igNoM8C1dX"
      },
      "source": [
        "###**Check for duplicates**"
      ]
    },
    {
      "cell_type": "code",
      "metadata": {
        "colab": {
          "base_uri": "https://localhost:8080/"
        },
        "id": "NunTCpw2CRAA",
        "outputId": "fc0c88fd-c6aa-4700-cef2-8b122a3e6670"
      },
      "source": [
        "train_feature_df.duplicated().sum()"
      ],
      "execution_count": 11,
      "outputs": [
        {
          "output_type": "execute_result",
          "data": {
            "text/plain": [
              "0"
            ]
          },
          "metadata": {
            "tags": []
          },
          "execution_count": 11
        }
      ]
    },
    {
      "cell_type": "code",
      "metadata": {
        "colab": {
          "base_uri": "https://localhost:8080/"
        },
        "id": "phChZyKsC8C1",
        "outputId": "7dec4124-a246-4848-dd86-ad97525a98ea"
      },
      "source": [
        "train_target_df.duplicated().sum()"
      ],
      "execution_count": 12,
      "outputs": [
        {
          "output_type": "execute_result",
          "data": {
            "text/plain": [
              "0"
            ]
          },
          "metadata": {
            "tags": []
          },
          "execution_count": 12
        }
      ]
    },
    {
      "cell_type": "code",
      "metadata": {
        "colab": {
          "base_uri": "https://localhost:8080/"
        },
        "id": "xhjHdviIDoLV",
        "outputId": "0963b3e2-dda2-456a-a21e-94f7809fda97"
      },
      "source": [
        "test_feature_df.duplicated().sum()"
      ],
      "execution_count": 13,
      "outputs": [
        {
          "output_type": "execute_result",
          "data": {
            "text/plain": [
              "0"
            ]
          },
          "metadata": {
            "tags": []
          },
          "execution_count": 13
        }
      ]
    },
    {
      "cell_type": "markdown",
      "metadata": {
        "id": "_fGo8MWSDuE_"
      },
      "source": [
        "###**Identify numerical and categorical variables**"
      ]
    },
    {
      "cell_type": "code",
      "metadata": {
        "colab": {
          "base_uri": "https://localhost:8080/"
        },
        "id": "UQrRr599DqCX",
        "outputId": "4b9d59c9-443e-48d3-a8f9-ec5091df2c93"
      },
      "source": [
        "train_feature_df.columns"
      ],
      "execution_count": 14,
      "outputs": [
        {
          "output_type": "execute_result",
          "data": {
            "text/plain": [
              "Index(['jobId', 'companyId', 'jobType', 'degree', 'major', 'industry',\n",
              "       'yearsExperience', 'milesFromMetropolis'],\n",
              "      dtype='object')"
            ]
          },
          "metadata": {
            "tags": []
          },
          "execution_count": 14
        }
      ]
    },
    {
      "cell_type": "code",
      "metadata": {
        "id": "7oo7GN35D0A1"
      },
      "source": [
        "numeric_cols = ['yearsExperience', 'milesFromMetropolis']"
      ],
      "execution_count": 15,
      "outputs": []
    },
    {
      "cell_type": "code",
      "metadata": {
        "id": "nh7PqaW_EBKc"
      },
      "source": [
        "categorical_cols = ['jobId', 'companyId', 'jobType', 'degree', 'major', 'industry']"
      ],
      "execution_count": 16,
      "outputs": []
    },
    {
      "cell_type": "markdown",
      "metadata": {
        "id": "Ii2Cv8zsFMlY"
      },
      "source": [
        "###**Summarize numerical and categorical variables separately**"
      ]
    },
    {
      "cell_type": "code",
      "metadata": {
        "colab": {
          "base_uri": "https://localhost:8080/",
          "height": 298
        },
        "id": "q-8-YzmWE2u6",
        "outputId": "8f3b95cf-a0fa-4082-e70c-ecae02b6019e"
      },
      "source": [
        "train_feature_df.describe(include = [np.number])"
      ],
      "execution_count": 17,
      "outputs": [
        {
          "output_type": "execute_result",
          "data": {
            "text/html": [
              "<div>\n",
              "<style scoped>\n",
              "    .dataframe tbody tr th:only-of-type {\n",
              "        vertical-align: middle;\n",
              "    }\n",
              "\n",
              "    .dataframe tbody tr th {\n",
              "        vertical-align: top;\n",
              "    }\n",
              "\n",
              "    .dataframe thead th {\n",
              "        text-align: right;\n",
              "    }\n",
              "</style>\n",
              "<table border=\"1\" class=\"dataframe\">\n",
              "  <thead>\n",
              "    <tr style=\"text-align: right;\">\n",
              "      <th></th>\n",
              "      <th>yearsExperience</th>\n",
              "      <th>milesFromMetropolis</th>\n",
              "    </tr>\n",
              "  </thead>\n",
              "  <tbody>\n",
              "    <tr>\n",
              "      <th>count</th>\n",
              "      <td>1000000.000000</td>\n",
              "      <td>1000000.000000</td>\n",
              "    </tr>\n",
              "    <tr>\n",
              "      <th>mean</th>\n",
              "      <td>11.992386</td>\n",
              "      <td>49.529260</td>\n",
              "    </tr>\n",
              "    <tr>\n",
              "      <th>std</th>\n",
              "      <td>7.212391</td>\n",
              "      <td>28.877733</td>\n",
              "    </tr>\n",
              "    <tr>\n",
              "      <th>min</th>\n",
              "      <td>0.000000</td>\n",
              "      <td>0.000000</td>\n",
              "    </tr>\n",
              "    <tr>\n",
              "      <th>25%</th>\n",
              "      <td>6.000000</td>\n",
              "      <td>25.000000</td>\n",
              "    </tr>\n",
              "    <tr>\n",
              "      <th>50%</th>\n",
              "      <td>12.000000</td>\n",
              "      <td>50.000000</td>\n",
              "    </tr>\n",
              "    <tr>\n",
              "      <th>75%</th>\n",
              "      <td>18.000000</td>\n",
              "      <td>75.000000</td>\n",
              "    </tr>\n",
              "    <tr>\n",
              "      <th>max</th>\n",
              "      <td>24.000000</td>\n",
              "      <td>99.000000</td>\n",
              "    </tr>\n",
              "  </tbody>\n",
              "</table>\n",
              "</div>"
            ],
            "text/plain": [
              "       yearsExperience  milesFromMetropolis\n",
              "count   1000000.000000       1000000.000000\n",
              "mean         11.992386            49.529260\n",
              "std           7.212391            28.877733\n",
              "min           0.000000             0.000000\n",
              "25%           6.000000            25.000000\n",
              "50%          12.000000            50.000000\n",
              "75%          18.000000            75.000000\n",
              "max          24.000000            99.000000"
            ]
          },
          "metadata": {
            "tags": []
          },
          "execution_count": 17
        }
      ]
    },
    {
      "cell_type": "code",
      "metadata": {
        "colab": {
          "base_uri": "https://localhost:8080/",
          "height": 173
        },
        "id": "wfx8AwsDFUB-",
        "outputId": "cafb1e38-19e9-4114-83ea-cb903259ffb7"
      },
      "source": [
        "train_feature_df.describe(include = ['O'])"
      ],
      "execution_count": 18,
      "outputs": [
        {
          "output_type": "execute_result",
          "data": {
            "text/html": [
              "<div>\n",
              "<style scoped>\n",
              "    .dataframe tbody tr th:only-of-type {\n",
              "        vertical-align: middle;\n",
              "    }\n",
              "\n",
              "    .dataframe tbody tr th {\n",
              "        vertical-align: top;\n",
              "    }\n",
              "\n",
              "    .dataframe thead th {\n",
              "        text-align: right;\n",
              "    }\n",
              "</style>\n",
              "<table border=\"1\" class=\"dataframe\">\n",
              "  <thead>\n",
              "    <tr style=\"text-align: right;\">\n",
              "      <th></th>\n",
              "      <th>jobId</th>\n",
              "      <th>companyId</th>\n",
              "      <th>jobType</th>\n",
              "      <th>degree</th>\n",
              "      <th>major</th>\n",
              "      <th>industry</th>\n",
              "    </tr>\n",
              "  </thead>\n",
              "  <tbody>\n",
              "    <tr>\n",
              "      <th>count</th>\n",
              "      <td>1000000</td>\n",
              "      <td>1000000</td>\n",
              "      <td>1000000</td>\n",
              "      <td>1000000</td>\n",
              "      <td>1000000</td>\n",
              "      <td>1000000</td>\n",
              "    </tr>\n",
              "    <tr>\n",
              "      <th>unique</th>\n",
              "      <td>1000000</td>\n",
              "      <td>63</td>\n",
              "      <td>8</td>\n",
              "      <td>5</td>\n",
              "      <td>9</td>\n",
              "      <td>7</td>\n",
              "    </tr>\n",
              "    <tr>\n",
              "      <th>top</th>\n",
              "      <td>JOB1362685084753</td>\n",
              "      <td>COMP39</td>\n",
              "      <td>SENIOR</td>\n",
              "      <td>HIGH_SCHOOL</td>\n",
              "      <td>NONE</td>\n",
              "      <td>WEB</td>\n",
              "    </tr>\n",
              "    <tr>\n",
              "      <th>freq</th>\n",
              "      <td>1</td>\n",
              "      <td>16193</td>\n",
              "      <td>125886</td>\n",
              "      <td>236976</td>\n",
              "      <td>532355</td>\n",
              "      <td>143206</td>\n",
              "    </tr>\n",
              "  </tbody>\n",
              "</table>\n",
              "</div>"
            ],
            "text/plain": [
              "                   jobId companyId  jobType       degree    major industry\n",
              "count            1000000   1000000  1000000      1000000  1000000  1000000\n",
              "unique           1000000        63        8            5        9        7\n",
              "top     JOB1362685084753    COMP39   SENIOR  HIGH_SCHOOL     NONE      WEB\n",
              "freq                   1     16193   125886       236976   532355   143206"
            ]
          },
          "metadata": {
            "tags": []
          },
          "execution_count": 18
        }
      ]
    },
    {
      "cell_type": "markdown",
      "metadata": {
        "id": "sKx9XrrOF0mS"
      },
      "source": [
        "###**Merge features and targets into single df and delete original dfs**"
      ]
    },
    {
      "cell_type": "code",
      "metadata": {
        "id": "biK19_40FZ-V"
      },
      "source": [
        "# Merge the features and salaries on jobId, delete original file to save memory\n",
        "train_df = pd.merge(train_feature_df, train_target_df, on='jobId')"
      ],
      "execution_count": 19,
      "outputs": []
    },
    {
      "cell_type": "code",
      "metadata": {
        "id": "wePuHhiKGGuO"
      },
      "source": [
        "del train_feature_df\n",
        "del train_target_df"
      ],
      "execution_count": 20,
      "outputs": []
    },
    {
      "cell_type": "code",
      "metadata": {
        "colab": {
          "base_uri": "https://localhost:8080/"
        },
        "id": "XlFsOm2KGOWU",
        "outputId": "6b7ff4ad-6ffc-4eaa-8b94-030aafc476e2"
      },
      "source": [
        "train_df.info()"
      ],
      "execution_count": 21,
      "outputs": [
        {
          "output_type": "stream",
          "text": [
            "<class 'pandas.core.frame.DataFrame'>\n",
            "Int64Index: 1000000 entries, 0 to 999999\n",
            "Data columns (total 9 columns):\n",
            " #   Column               Non-Null Count    Dtype \n",
            "---  ------               --------------    ----- \n",
            " 0   jobId                1000000 non-null  object\n",
            " 1   companyId            1000000 non-null  object\n",
            " 2   jobType              1000000 non-null  object\n",
            " 3   degree               1000000 non-null  object\n",
            " 4   major                1000000 non-null  object\n",
            " 5   industry             1000000 non-null  object\n",
            " 6   yearsExperience      1000000 non-null  int64 \n",
            " 7   milesFromMetropolis  1000000 non-null  int64 \n",
            " 8   salary               1000000 non-null  int64 \n",
            "dtypes: int64(3), object(6)\n",
            "memory usage: 76.3+ MB\n"
          ],
          "name": "stdout"
        }
      ]
    },
    {
      "cell_type": "code",
      "metadata": {
        "colab": {
          "base_uri": "https://localhost:8080/",
          "height": 204
        },
        "id": "phC8sLuZGYxP",
        "outputId": "17f875ca-ba86-4f58-eb4a-2cb2b4c71c54"
      },
      "source": [
        "train_df.head()"
      ],
      "execution_count": 22,
      "outputs": [
        {
          "output_type": "execute_result",
          "data": {
            "text/html": [
              "<div>\n",
              "<style scoped>\n",
              "    .dataframe tbody tr th:only-of-type {\n",
              "        vertical-align: middle;\n",
              "    }\n",
              "\n",
              "    .dataframe tbody tr th {\n",
              "        vertical-align: top;\n",
              "    }\n",
              "\n",
              "    .dataframe thead th {\n",
              "        text-align: right;\n",
              "    }\n",
              "</style>\n",
              "<table border=\"1\" class=\"dataframe\">\n",
              "  <thead>\n",
              "    <tr style=\"text-align: right;\">\n",
              "      <th></th>\n",
              "      <th>jobId</th>\n",
              "      <th>companyId</th>\n",
              "      <th>jobType</th>\n",
              "      <th>degree</th>\n",
              "      <th>major</th>\n",
              "      <th>industry</th>\n",
              "      <th>yearsExperience</th>\n",
              "      <th>milesFromMetropolis</th>\n",
              "      <th>salary</th>\n",
              "    </tr>\n",
              "  </thead>\n",
              "  <tbody>\n",
              "    <tr>\n",
              "      <th>0</th>\n",
              "      <td>JOB1362684407687</td>\n",
              "      <td>COMP37</td>\n",
              "      <td>CFO</td>\n",
              "      <td>MASTERS</td>\n",
              "      <td>MATH</td>\n",
              "      <td>HEALTH</td>\n",
              "      <td>10</td>\n",
              "      <td>83</td>\n",
              "      <td>130</td>\n",
              "    </tr>\n",
              "    <tr>\n",
              "      <th>1</th>\n",
              "      <td>JOB1362684407688</td>\n",
              "      <td>COMP19</td>\n",
              "      <td>CEO</td>\n",
              "      <td>HIGH_SCHOOL</td>\n",
              "      <td>NONE</td>\n",
              "      <td>WEB</td>\n",
              "      <td>3</td>\n",
              "      <td>73</td>\n",
              "      <td>101</td>\n",
              "    </tr>\n",
              "    <tr>\n",
              "      <th>2</th>\n",
              "      <td>JOB1362684407689</td>\n",
              "      <td>COMP52</td>\n",
              "      <td>VICE_PRESIDENT</td>\n",
              "      <td>DOCTORAL</td>\n",
              "      <td>PHYSICS</td>\n",
              "      <td>HEALTH</td>\n",
              "      <td>10</td>\n",
              "      <td>38</td>\n",
              "      <td>137</td>\n",
              "    </tr>\n",
              "    <tr>\n",
              "      <th>3</th>\n",
              "      <td>JOB1362684407690</td>\n",
              "      <td>COMP38</td>\n",
              "      <td>MANAGER</td>\n",
              "      <td>DOCTORAL</td>\n",
              "      <td>CHEMISTRY</td>\n",
              "      <td>AUTO</td>\n",
              "      <td>8</td>\n",
              "      <td>17</td>\n",
              "      <td>142</td>\n",
              "    </tr>\n",
              "    <tr>\n",
              "      <th>4</th>\n",
              "      <td>JOB1362684407691</td>\n",
              "      <td>COMP7</td>\n",
              "      <td>VICE_PRESIDENT</td>\n",
              "      <td>BACHELORS</td>\n",
              "      <td>PHYSICS</td>\n",
              "      <td>FINANCE</td>\n",
              "      <td>8</td>\n",
              "      <td>16</td>\n",
              "      <td>163</td>\n",
              "    </tr>\n",
              "  </tbody>\n",
              "</table>\n",
              "</div>"
            ],
            "text/plain": [
              "              jobId companyId  ... milesFromMetropolis salary\n",
              "0  JOB1362684407687    COMP37  ...                  83    130\n",
              "1  JOB1362684407688    COMP19  ...                  73    101\n",
              "2  JOB1362684407689    COMP52  ...                  38    137\n",
              "3  JOB1362684407690    COMP38  ...                  17    142\n",
              "4  JOB1362684407691     COMP7  ...                  16    163\n",
              "\n",
              "[5 rows x 9 columns]"
            ]
          },
          "metadata": {
            "tags": []
          },
          "execution_count": 22
        }
      ]
    },
    {
      "cell_type": "markdown",
      "metadata": {
        "id": "Zn9705ltGp-K"
      },
      "source": [
        "###**Visualize target variable (salary)**"
      ]
    },
    {
      "cell_type": "code",
      "metadata": {
        "colab": {
          "base_uri": "https://localhost:8080/",
          "height": 388
        },
        "id": "OimtkNhaGdB4",
        "outputId": "6437bd20-2674-4660-cb8f-c2625bad552b"
      },
      "source": [
        "plt.figure(figsize = (14, 6))\n",
        "plt.subplot(1,2,1)\n",
        "sns.boxplot(x = train_df.salary)\n",
        "plt.subplot(1,2,2)\n",
        "sns.histplot(x = train_df.salary, stat = 'density', bins = 20, kde = True)\n",
        "plt.show()"
      ],
      "execution_count": 23,
      "outputs": [
        {
          "output_type": "display_data",
          "data": {
            "image/png": "[encoded data removed]",
            "text/plain": [
              "<Figure size 1008x432 with 2 Axes>"
            ]
          },
          "metadata": {
            "tags": [],
            "needs_background": "light"
          }
        }
      ]
    },
    {
      "cell_type": "markdown",
      "metadata": {
        "id": "HKPm3GDbL2Q-"
      },
      "source": [
        "###**Use IQR rule to identify potential outliers**"
      ]
    },
    {
      "cell_type": "code",
      "metadata": {
        "colab": {
          "base_uri": "https://localhost:8080/"
        },
        "id": "Y3D31xu8G0SL",
        "outputId": "b674e8e8-a2eb-45b7-e696-3a3d6b1eb819"
      },
      "source": [
        "stat = train_df.salary.describe()\n",
        "print(stat)\n",
        "IQR = stat['75%'] - stat['25%']\n",
        "upper_bound = stat['75%'] + 1.5 * IQR\n",
        "lower_bound = stat['25%'] - 1.5 * IQR\n",
        "print('The upper and lower bounds for suspected outliers are {} and {}.'.format(upper_bound, lower_bound))"
      ],
      "execution_count": 24,
      "outputs": [
        {
          "output_type": "stream",
          "text": [
            "count    1000000.000000\n",
            "mean         116.061818\n",
            "std           38.717936\n",
            "min            0.000000\n",
            "25%           88.000000\n",
            "50%          114.000000\n",
            "75%          141.000000\n",
            "max          301.000000\n",
            "Name: salary, dtype: float64\n",
            "The upper and lower bounds for suspected outliers are 220.5 and 8.5.\n"
          ],
          "name": "stdout"
        }
      ]
    },
    {
      "cell_type": "markdown",
      "metadata": {
        "id": "LnitMZyLMPMo"
      },
      "source": [
        "###**Examine potential outliers**"
      ]
    },
    {
      "cell_type": "code",
      "metadata": {
        "colab": {
          "base_uri": "https://localhost:8080/",
          "height": 204
        },
        "id": "g0eQU2EfL-7F",
        "outputId": "a95a8602-1d47-4cc1-b058-583d4155dee0"
      },
      "source": [
        "#check for potential outliers below lower bound\n",
        "train_df[train_df.salary < lower_bound]"
      ],
      "execution_count": 25,
      "outputs": [
        {
          "output_type": "execute_result",
          "data": {
            "text/html": [
              "<div>\n",
              "<style scoped>\n",
              "    .dataframe tbody tr th:only-of-type {\n",
              "        vertical-align: middle;\n",
              "    }\n",
              "\n",
              "    .dataframe tbody tr th {\n",
              "        vertical-align: top;\n",
              "    }\n",
              "\n",
              "    .dataframe thead th {\n",
              "        text-align: right;\n",
              "    }\n",
              "</style>\n",
              "<table border=\"1\" class=\"dataframe\">\n",
              "  <thead>\n",
              "    <tr style=\"text-align: right;\">\n",
              "      <th></th>\n",
              "      <th>jobId</th>\n",
              "      <th>companyId</th>\n",
              "      <th>jobType</th>\n",
              "      <th>degree</th>\n",
              "      <th>major</th>\n",
              "      <th>industry</th>\n",
              "      <th>yearsExperience</th>\n",
              "      <th>milesFromMetropolis</th>\n",
              "      <th>salary</th>\n",
              "    </tr>\n",
              "  </thead>\n",
              "  <tbody>\n",
              "    <tr>\n",
              "      <th>30559</th>\n",
              "      <td>JOB1362684438246</td>\n",
              "      <td>COMP44</td>\n",
              "      <td>JUNIOR</td>\n",
              "      <td>DOCTORAL</td>\n",
              "      <td>MATH</td>\n",
              "      <td>AUTO</td>\n",
              "      <td>11</td>\n",
              "      <td>7</td>\n",
              "      <td>0</td>\n",
              "    </tr>\n",
              "    <tr>\n",
              "      <th>495984</th>\n",
              "      <td>JOB1362684903671</td>\n",
              "      <td>COMP34</td>\n",
              "      <td>JUNIOR</td>\n",
              "      <td>NONE</td>\n",
              "      <td>NONE</td>\n",
              "      <td>OIL</td>\n",
              "      <td>1</td>\n",
              "      <td>25</td>\n",
              "      <td>0</td>\n",
              "    </tr>\n",
              "    <tr>\n",
              "      <th>652076</th>\n",
              "      <td>JOB1362685059763</td>\n",
              "      <td>COMP25</td>\n",
              "      <td>CTO</td>\n",
              "      <td>HIGH_SCHOOL</td>\n",
              "      <td>NONE</td>\n",
              "      <td>AUTO</td>\n",
              "      <td>6</td>\n",
              "      <td>60</td>\n",
              "      <td>0</td>\n",
              "    </tr>\n",
              "    <tr>\n",
              "      <th>816129</th>\n",
              "      <td>JOB1362685223816</td>\n",
              "      <td>COMP42</td>\n",
              "      <td>MANAGER</td>\n",
              "      <td>DOCTORAL</td>\n",
              "      <td>ENGINEERING</td>\n",
              "      <td>FINANCE</td>\n",
              "      <td>18</td>\n",
              "      <td>6</td>\n",
              "      <td>0</td>\n",
              "    </tr>\n",
              "    <tr>\n",
              "      <th>828156</th>\n",
              "      <td>JOB1362685235843</td>\n",
              "      <td>COMP40</td>\n",
              "      <td>VICE_PRESIDENT</td>\n",
              "      <td>MASTERS</td>\n",
              "      <td>ENGINEERING</td>\n",
              "      <td>WEB</td>\n",
              "      <td>3</td>\n",
              "      <td>29</td>\n",
              "      <td>0</td>\n",
              "    </tr>\n",
              "  </tbody>\n",
              "</table>\n",
              "</div>"
            ],
            "text/plain": [
              "                   jobId companyId  ... milesFromMetropolis salary\n",
              "30559   JOB1362684438246    COMP44  ...                   7      0\n",
              "495984  JOB1362684903671    COMP34  ...                  25      0\n",
              "652076  JOB1362685059763    COMP25  ...                  60      0\n",
              "816129  JOB1362685223816    COMP42  ...                   6      0\n",
              "828156  JOB1362685235843    COMP40  ...                  29      0\n",
              "\n",
              "[5 rows x 9 columns]"
            ]
          },
          "metadata": {
            "tags": []
          },
          "execution_count": 25
        }
      ]
    },
    {
      "cell_type": "markdown",
      "metadata": {
        "id": "LcfxsoRMNnsV"
      },
      "source": [
        "These entries with zero salary do not appear to be volunteer positions. We are confident that they are instances of missing/corrupt data and should be removed from the training set."
      ]
    },
    {
      "cell_type": "code",
      "metadata": {
        "colab": {
          "base_uri": "https://localhost:8080/"
        },
        "id": "5Rn2CrH5MeHK",
        "outputId": "82377917-1905-40a8-9b2a-3ec0d545aca1"
      },
      "source": [
        "#check for potential outliers above upper bound\n",
        "train_df.loc[train_df.salary > upper_bound, 'jobType'].value_counts()"
      ],
      "execution_count": 26,
      "outputs": [
        {
          "output_type": "execute_result",
          "data": {
            "text/plain": [
              "CEO               3227\n",
              "CFO               1496\n",
              "CTO               1488\n",
              "VICE_PRESIDENT     603\n",
              "MANAGER            217\n",
              "SENIOR              66\n",
              "JUNIOR              20\n",
              "Name: jobType, dtype: int64"
            ]
          },
          "metadata": {
            "tags": []
          },
          "execution_count": 26
        }
      ]
    },
    {
      "cell_type": "code",
      "metadata": {
        "colab": {
          "base_uri": "https://localhost:8080/",
          "height": 671
        },
        "id": "7Sp9NvdCNEr-",
        "outputId": "829c6e9f-8c69-42b2-ea33-7e3ad082dcdd"
      },
      "source": [
        "# Check most suspicious potential outliers above upper bound\n",
        "train_df[(train_df.salary > upper_bound) & (train_df.jobType == 'JUNIOR')]"
      ],
      "execution_count": 27,
      "outputs": [
        {
          "output_type": "execute_result",
          "data": {
            "text/html": [
              "<div>\n",
              "<style scoped>\n",
              "    .dataframe tbody tr th:only-of-type {\n",
              "        vertical-align: middle;\n",
              "    }\n",
              "\n",
              "    .dataframe tbody tr th {\n",
              "        vertical-align: top;\n",
              "    }\n",
              "\n",
              "    .dataframe thead th {\n",
              "        text-align: right;\n",
              "    }\n",
              "</style>\n",
              "<table border=\"1\" class=\"dataframe\">\n",
              "  <thead>\n",
              "    <tr style=\"text-align: right;\">\n",
              "      <th></th>\n",
              "      <th>jobId</th>\n",
              "      <th>companyId</th>\n",
              "      <th>jobType</th>\n",
              "      <th>degree</th>\n",
              "      <th>major</th>\n",
              "      <th>industry</th>\n",
              "      <th>yearsExperience</th>\n",
              "      <th>milesFromMetropolis</th>\n",
              "      <th>salary</th>\n",
              "    </tr>\n",
              "  </thead>\n",
              "  <tbody>\n",
              "    <tr>\n",
              "      <th>1222</th>\n",
              "      <td>JOB1362684408909</td>\n",
              "      <td>COMP40</td>\n",
              "      <td>JUNIOR</td>\n",
              "      <td>MASTERS</td>\n",
              "      <td>COMPSCI</td>\n",
              "      <td>OIL</td>\n",
              "      <td>24</td>\n",
              "      <td>5</td>\n",
              "      <td>225</td>\n",
              "    </tr>\n",
              "    <tr>\n",
              "      <th>27710</th>\n",
              "      <td>JOB1362684435397</td>\n",
              "      <td>COMP21</td>\n",
              "      <td>JUNIOR</td>\n",
              "      <td>DOCTORAL</td>\n",
              "      <td>ENGINEERING</td>\n",
              "      <td>OIL</td>\n",
              "      <td>24</td>\n",
              "      <td>3</td>\n",
              "      <td>246</td>\n",
              "    </tr>\n",
              "    <tr>\n",
              "      <th>31355</th>\n",
              "      <td>JOB1362684439042</td>\n",
              "      <td>COMP45</td>\n",
              "      <td>JUNIOR</td>\n",
              "      <td>DOCTORAL</td>\n",
              "      <td>COMPSCI</td>\n",
              "      <td>FINANCE</td>\n",
              "      <td>24</td>\n",
              "      <td>0</td>\n",
              "      <td>225</td>\n",
              "    </tr>\n",
              "    <tr>\n",
              "      <th>100042</th>\n",
              "      <td>JOB1362684507729</td>\n",
              "      <td>COMP17</td>\n",
              "      <td>JUNIOR</td>\n",
              "      <td>DOCTORAL</td>\n",
              "      <td>BUSINESS</td>\n",
              "      <td>FINANCE</td>\n",
              "      <td>23</td>\n",
              "      <td>8</td>\n",
              "      <td>248</td>\n",
              "    </tr>\n",
              "    <tr>\n",
              "      <th>160333</th>\n",
              "      <td>JOB1362684568020</td>\n",
              "      <td>COMP18</td>\n",
              "      <td>JUNIOR</td>\n",
              "      <td>DOCTORAL</td>\n",
              "      <td>BUSINESS</td>\n",
              "      <td>FINANCE</td>\n",
              "      <td>22</td>\n",
              "      <td>3</td>\n",
              "      <td>223</td>\n",
              "    </tr>\n",
              "    <tr>\n",
              "      <th>189582</th>\n",
              "      <td>JOB1362684597269</td>\n",
              "      <td>COMP32</td>\n",
              "      <td>JUNIOR</td>\n",
              "      <td>DOCTORAL</td>\n",
              "      <td>BUSINESS</td>\n",
              "      <td>OIL</td>\n",
              "      <td>24</td>\n",
              "      <td>11</td>\n",
              "      <td>221</td>\n",
              "    </tr>\n",
              "    <tr>\n",
              "      <th>214606</th>\n",
              "      <td>JOB1362684622293</td>\n",
              "      <td>COMP47</td>\n",
              "      <td>JUNIOR</td>\n",
              "      <td>MASTERS</td>\n",
              "      <td>BUSINESS</td>\n",
              "      <td>FINANCE</td>\n",
              "      <td>22</td>\n",
              "      <td>4</td>\n",
              "      <td>222</td>\n",
              "    </tr>\n",
              "    <tr>\n",
              "      <th>303778</th>\n",
              "      <td>JOB1362684711465</td>\n",
              "      <td>COMP51</td>\n",
              "      <td>JUNIOR</td>\n",
              "      <td>MASTERS</td>\n",
              "      <td>ENGINEERING</td>\n",
              "      <td>WEB</td>\n",
              "      <td>24</td>\n",
              "      <td>2</td>\n",
              "      <td>226</td>\n",
              "    </tr>\n",
              "    <tr>\n",
              "      <th>348354</th>\n",
              "      <td>JOB1362684756041</td>\n",
              "      <td>COMP56</td>\n",
              "      <td>JUNIOR</td>\n",
              "      <td>DOCTORAL</td>\n",
              "      <td>ENGINEERING</td>\n",
              "      <td>OIL</td>\n",
              "      <td>23</td>\n",
              "      <td>25</td>\n",
              "      <td>226</td>\n",
              "    </tr>\n",
              "    <tr>\n",
              "      <th>427593</th>\n",
              "      <td>JOB1362684835280</td>\n",
              "      <td>COMP54</td>\n",
              "      <td>JUNIOR</td>\n",
              "      <td>DOCTORAL</td>\n",
              "      <td>ENGINEERING</td>\n",
              "      <td>FINANCE</td>\n",
              "      <td>23</td>\n",
              "      <td>3</td>\n",
              "      <td>221</td>\n",
              "    </tr>\n",
              "    <tr>\n",
              "      <th>500739</th>\n",
              "      <td>JOB1362684908426</td>\n",
              "      <td>COMP40</td>\n",
              "      <td>JUNIOR</td>\n",
              "      <td>DOCTORAL</td>\n",
              "      <td>ENGINEERING</td>\n",
              "      <td>OIL</td>\n",
              "      <td>21</td>\n",
              "      <td>0</td>\n",
              "      <td>227</td>\n",
              "    </tr>\n",
              "    <tr>\n",
              "      <th>627534</th>\n",
              "      <td>JOB1362685035221</td>\n",
              "      <td>COMP5</td>\n",
              "      <td>JUNIOR</td>\n",
              "      <td>DOCTORAL</td>\n",
              "      <td>ENGINEERING</td>\n",
              "      <td>OIL</td>\n",
              "      <td>24</td>\n",
              "      <td>29</td>\n",
              "      <td>230</td>\n",
              "    </tr>\n",
              "    <tr>\n",
              "      <th>645555</th>\n",
              "      <td>JOB1362685053242</td>\n",
              "      <td>COMP36</td>\n",
              "      <td>JUNIOR</td>\n",
              "      <td>DOCTORAL</td>\n",
              "      <td>BUSINESS</td>\n",
              "      <td>FINANCE</td>\n",
              "      <td>24</td>\n",
              "      <td>1</td>\n",
              "      <td>225</td>\n",
              "    </tr>\n",
              "    <tr>\n",
              "      <th>656572</th>\n",
              "      <td>JOB1362685064259</td>\n",
              "      <td>COMP28</td>\n",
              "      <td>JUNIOR</td>\n",
              "      <td>DOCTORAL</td>\n",
              "      <td>BUSINESS</td>\n",
              "      <td>OIL</td>\n",
              "      <td>22</td>\n",
              "      <td>3</td>\n",
              "      <td>222</td>\n",
              "    </tr>\n",
              "    <tr>\n",
              "      <th>685775</th>\n",
              "      <td>JOB1362685093462</td>\n",
              "      <td>COMP38</td>\n",
              "      <td>JUNIOR</td>\n",
              "      <td>BACHELORS</td>\n",
              "      <td>ENGINEERING</td>\n",
              "      <td>OIL</td>\n",
              "      <td>24</td>\n",
              "      <td>13</td>\n",
              "      <td>225</td>\n",
              "    </tr>\n",
              "    <tr>\n",
              "      <th>743326</th>\n",
              "      <td>JOB1362685151013</td>\n",
              "      <td>COMP14</td>\n",
              "      <td>JUNIOR</td>\n",
              "      <td>DOCTORAL</td>\n",
              "      <td>BUSINESS</td>\n",
              "      <td>FINANCE</td>\n",
              "      <td>19</td>\n",
              "      <td>0</td>\n",
              "      <td>236</td>\n",
              "    </tr>\n",
              "    <tr>\n",
              "      <th>787674</th>\n",
              "      <td>JOB1362685195361</td>\n",
              "      <td>COMP43</td>\n",
              "      <td>JUNIOR</td>\n",
              "      <td>DOCTORAL</td>\n",
              "      <td>BUSINESS</td>\n",
              "      <td>FINANCE</td>\n",
              "      <td>18</td>\n",
              "      <td>15</td>\n",
              "      <td>232</td>\n",
              "    </tr>\n",
              "    <tr>\n",
              "      <th>796956</th>\n",
              "      <td>JOB1362685204643</td>\n",
              "      <td>COMP30</td>\n",
              "      <td>JUNIOR</td>\n",
              "      <td>MASTERS</td>\n",
              "      <td>BUSINESS</td>\n",
              "      <td>OIL</td>\n",
              "      <td>24</td>\n",
              "      <td>2</td>\n",
              "      <td>228</td>\n",
              "    </tr>\n",
              "    <tr>\n",
              "      <th>855219</th>\n",
              "      <td>JOB1362685262906</td>\n",
              "      <td>COMP13</td>\n",
              "      <td>JUNIOR</td>\n",
              "      <td>MASTERS</td>\n",
              "      <td>ENGINEERING</td>\n",
              "      <td>OIL</td>\n",
              "      <td>22</td>\n",
              "      <td>26</td>\n",
              "      <td>225</td>\n",
              "    </tr>\n",
              "    <tr>\n",
              "      <th>954368</th>\n",
              "      <td>JOB1362685362055</td>\n",
              "      <td>COMP11</td>\n",
              "      <td>JUNIOR</td>\n",
              "      <td>DOCTORAL</td>\n",
              "      <td>BUSINESS</td>\n",
              "      <td>OIL</td>\n",
              "      <td>24</td>\n",
              "      <td>26</td>\n",
              "      <td>223</td>\n",
              "    </tr>\n",
              "  </tbody>\n",
              "</table>\n",
              "</div>"
            ],
            "text/plain": [
              "                   jobId companyId  ... milesFromMetropolis salary\n",
              "1222    JOB1362684408909    COMP40  ...                   5    225\n",
              "27710   JOB1362684435397    COMP21  ...                   3    246\n",
              "31355   JOB1362684439042    COMP45  ...                   0    225\n",
              "100042  JOB1362684507729    COMP17  ...                   8    248\n",
              "160333  JOB1362684568020    COMP18  ...                   3    223\n",
              "189582  JOB1362684597269    COMP32  ...                  11    221\n",
              "214606  JOB1362684622293    COMP47  ...                   4    222\n",
              "303778  JOB1362684711465    COMP51  ...                   2    226\n",
              "348354  JOB1362684756041    COMP56  ...                  25    226\n",
              "427593  JOB1362684835280    COMP54  ...                   3    221\n",
              "500739  JOB1362684908426    COMP40  ...                   0    227\n",
              "627534  JOB1362685035221     COMP5  ...                  29    230\n",
              "645555  JOB1362685053242    COMP36  ...                   1    225\n",
              "656572  JOB1362685064259    COMP28  ...                   3    222\n",
              "685775  JOB1362685093462    COMP38  ...                  13    225\n",
              "743326  JOB1362685151013    COMP14  ...                   0    236\n",
              "787674  JOB1362685195361    COMP43  ...                  15    232\n",
              "796956  JOB1362685204643    COMP30  ...                   2    228\n",
              "855219  JOB1362685262906    COMP13  ...                  26    225\n",
              "954368  JOB1362685362055    COMP11  ...                  26    223\n",
              "\n",
              "[20 rows x 9 columns]"
            ]
          },
          "metadata": {
            "tags": []
          },
          "execution_count": 27
        }
      ]
    },
    {
      "cell_type": "markdown",
      "metadata": {
        "id": "8bWq8tx-Nd3v"
      },
      "source": [
        "The high-salary potential outliers all appear to be legitimate data. Most roles are C-level executive roles and the junior positions are in industries that are well known for high salaries (oil, finance). We determine these entries to be legitimate and will not remove them."
      ]
    },
    {
      "cell_type": "code",
      "metadata": {
        "id": "1VCZmzZfNUsz"
      },
      "source": [
        "# Remove data with zero salaries\n",
        "train_df = train_df[train_df.salary > lower_bound]"
      ],
      "execution_count": 28,
      "outputs": []
    },
    {
      "cell_type": "markdown",
      "metadata": {
        "id": "p7NrOvP-wsBY"
      },
      "source": [
        "###**Visualizing Potential Correlations**"
      ]
    },
    {
      "cell_type": "code",
      "metadata": {
        "id": "9dqOw5rOOiEP"
      },
      "source": [
        "def plot_feature(df, col):\n",
        "    '''\n",
        "    Make plots for each feature\n",
        "    left, the distribution of samples on the feature\n",
        "    right, the dependance of salary on the feature\n",
        "    '''\n",
        "    plt.figure(figsize = (14, 6))\n",
        "    plt.subplot(1, 2, 1)\n",
        "    if df[col].dtype == 'int64':\n",
        "        df[col].value_counts().sort_index().plot()\n",
        "    else:\n",
        "        #change the object variable to category type and order their level by the mean salary\n",
        "        #in each category\n",
        "        mean = df.groupby(col)['salary'].mean()\n",
        "        df[col] = df[col].astype('category')\n",
        "        levels = mean.sort_values().index.tolist()\n",
        "        df[col].cat.reorder_categories(levels, inplace=True)\n",
        "        df[col].value_counts().plot()\n",
        "    plt.xticks(rotation=45)\n",
        "    plt.xlabel(col)\n",
        "    plt.ylabel('Counts')\n",
        "    plt.subplot(1, 2, 2)\n",
        "\n",
        "    if df[col].dtype == 'int64' or col == 'companyId':\n",
        "        #plot the mean salary for each category and fill between the (mean - std, mean + std)\n",
        "        mean = df.groupby(col)['salary'].mean()\n",
        "        std = df.groupby(col)['salary'].std()\n",
        "        mean.plot()\n",
        "        plt.fill_between(range(len(std.index)), mean.values-std.values, mean.values + std.values, \\\n",
        "                         alpha = 0.1)\n",
        "    else:\n",
        "        sns.boxplot(x = col, y = 'salary', data=df)\n",
        "    \n",
        "    plt.xticks(rotation=45)\n",
        "    plt.ylabel('Salaries')\n",
        "    plt.show()"
      ],
      "execution_count": 29,
      "outputs": []
    },
    {
      "cell_type": "code",
      "metadata": {
        "colab": {
          "base_uri": "https://localhost:8080/",
          "height": 415
        },
        "id": "TwWMxmwryHUl",
        "outputId": "43cff74a-1d3c-4a52-c1ae-1e183e97d280"
      },
      "source": [
        "plot_feature(train_df, 'companyId')"
      ],
      "execution_count": 30,
      "outputs": [
        {
          "output_type": "display_data",
          "data": {
            "image/png": "[encoded data removed]",
            "text/plain": [
              "<Figure size 1008x432 with 2 Axes>"
            ]
          },
          "metadata": {
            "tags": [],
            "needs_background": "light"
          }
        }
      ]
    },
    {
      "cell_type": "markdown",
      "metadata": {
        "id": "JBoT_TxoyfeE"
      },
      "source": [
        "**The salary is weakly associated with companies.**"
      ]
    },
    {
      "cell_type": "code",
      "metadata": {
        "colab": {
          "base_uri": "https://localhost:8080/",
          "height": 445
        },
        "id": "hcbQdKZV0SOq",
        "outputId": "2f828810-08fc-4efe-8fe1-2c1e27aacc34"
      },
      "source": [
        "plot_feature(train_df, 'jobType')"
      ],
      "execution_count": 31,
      "outputs": [
        {
          "output_type": "display_data",
          "data": {
            "image/png": "[encoded data removed]",
            "text/plain": [
              "<Figure size 1008x432 with 2 Axes>"
            ]
          },
          "metadata": {
            "tags": [],
            "needs_background": "light"
          }
        }
      ]
    },
    {
      "cell_type": "markdown",
      "metadata": {
        "id": "UqtDHPpf2v0W"
      },
      "source": [
        "**There is a clear positive correlation between job type and salary.**"
      ]
    },
    {
      "cell_type": "code",
      "metadata": {
        "colab": {
          "base_uri": "https://localhost:8080/",
          "height": 441
        },
        "id": "eay176Fe2nCZ",
        "outputId": "e04e3172-6290-428f-ae63-bfa6c154836c"
      },
      "source": [
        "plot_feature(train_df, 'degree')"
      ],
      "execution_count": 32,
      "outputs": [
        {
          "output_type": "display_data",
          "data": {
            "image/png": "[encoded data removed]",
            "text/plain": [
              "<Figure size 1008x432 with 2 Axes>"
            ]
          },
          "metadata": {
            "tags": [],
            "needs_background": "light"
          }
        }
      ]
    },
    {
      "cell_type": "markdown",
      "metadata": {
        "id": "EDoyFmU-4T28"
      },
      "source": [
        "**More advanced degrees tend to correspond to higher salaries.**"
      ]
    },
    {
      "cell_type": "code",
      "metadata": {
        "colab": {
          "base_uri": "https://localhost:8080/",
          "height": 434
        },
        "id": "DBit63BG4Ofj",
        "outputId": "47919076-dea1-4fd9-b272-deb7c0434bd9"
      },
      "source": [
        "plot_feature(train_df, 'major')"
      ],
      "execution_count": 33,
      "outputs": [
        {
          "output_type": "display_data",
          "data": {
            "image/png": "[encoded data removed]",
            "text/plain": [
              "<Figure size 1008x432 with 2 Axes>"
            ]
          },
          "metadata": {
            "tags": [],
            "needs_background": "light"
          }
        }
      ]
    },
    {
      "cell_type": "markdown",
      "metadata": {
        "id": "VM8L0OxO5B87"
      },
      "source": [
        "**People with majors of engineering, business and math generally have higher salaries.**"
      ]
    },
    {
      "cell_type": "code",
      "metadata": {
        "colab": {
          "base_uri": "https://localhost:8080/",
          "height": 426
        },
        "id": "X7rP3Rxd4ysq",
        "outputId": "9e314f51-3fdc-44b7-f769-84883f99837f"
      },
      "source": [
        "plot_feature(train_df, 'industry')"
      ],
      "execution_count": 34,
      "outputs": [
        {
          "output_type": "display_data",
          "data": {
            "image/png": "[encoded data removed]",
            "text/plain": [
              "<Figure size 1008x432 with 2 Axes>"
            ]
          },
          "metadata": {
            "tags": [],
            "needs_background": "light"
          }
        }
      ]
    },
    {
      "cell_type": "markdown",
      "metadata": {
        "id": "-AwoymBl5RUL"
      },
      "source": [
        "**As for industries, oil, finance and web industries generally pay better.**"
      ]
    },
    {
      "cell_type": "code",
      "metadata": {
        "colab": {
          "base_uri": "https://localhost:8080/",
          "height": 394
        },
        "id": "_p72bhmL5IYW",
        "outputId": "a4674f38-6a7e-42a5-f801-c8e1fc9e80c2"
      },
      "source": [
        "plot_feature(train_df, 'yearsExperience')"
      ],
      "execution_count": 35,
      "outputs": [
        {
          "output_type": "display_data",
          "data": {
            "image/png": "[encoded data removed]",
            "text/plain": [
              "<Figure size 1008x432 with 2 Axes>"
            ]
          },
          "metadata": {
            "tags": [],
            "needs_background": "light"
          }
        }
      ]
    },
    {
      "cell_type": "markdown",
      "metadata": {
        "id": "SlF4lyS65Z8M"
      },
      "source": [
        "**In general, there is a clear positive correlation between salary and years of experience.**"
      ]
    },
    {
      "cell_type": "code",
      "metadata": {
        "colab": {
          "base_uri": "https://localhost:8080/",
          "height": 398
        },
        "id": "rNAUJV2Q5WuR",
        "outputId": "5fe0c070-fa39-4262-e653-c88b1f6706d1"
      },
      "source": [
        "plot_feature(train_df, 'milesFromMetropolis')"
      ],
      "execution_count": 36,
      "outputs": [
        {
          "output_type": "display_data",
          "data": {
            "image/png": "[encoded data removed]",
            "text/plain": [
              "<Figure size 1008x432 with 2 Axes>"
            ]
          },
          "metadata": {
            "tags": [],
            "needs_background": "light"
          }
        }
      ]
    },
    {
      "cell_type": "markdown",
      "metadata": {
        "id": "esbzHghI5xxC"
      },
      "source": [
        "**In general, salaries decrease with the distance to metropolis.**"
      ]
    },
    {
      "cell_type": "code",
      "metadata": {
        "id": "_GbK5Ap95t2y"
      },
      "source": [
        "def encode_label(df, col):\n",
        "    #encode the categories using average salary for each category to replace label\n",
        "    cat_dict ={}\n",
        "    cats = df[col].cat.categories.tolist()\n",
        "    for cat in cats:\n",
        "        cat_dict[cat] = train_df[train_df[col] == cat]['salary'].mean()   \n",
        "    df[col] = df[col].map(cat_dict)"
      ],
      "execution_count": 37,
      "outputs": []
    },
    {
      "cell_type": "code",
      "metadata": {
        "id": "nn_SBJwh8PCK"
      },
      "source": [
        "for col in train_df.columns:\n",
        "    if train_df[col].dtype.name == \"category\":\n",
        "        encode_label(train_df, col)\n",
        "        train_df[col] = train_df[col].astype('int')"
      ],
      "execution_count": 38,
      "outputs": []
    },
    {
      "cell_type": "code",
      "metadata": {
        "colab": {
          "base_uri": "https://localhost:8080/",
          "height": 665
        },
        "id": "kG1NOvfa8Xgs",
        "outputId": "cea865d0-f18e-44e9-82f1-f867911d197d"
      },
      "source": [
        "# Correlations between selected features and response\n",
        "# jobId is discarded because it is unique for individual\n",
        "fig = plt.figure(figsize=(12, 10))\n",
        "features = ['companyId', 'jobType', 'degree', 'major', 'industry', 'yearsExperience', 'milesFromMetropolis']\n",
        "sns.heatmap(train_df[features + ['salary']].corr(), cmap='Blues', annot=True)\n",
        "plt.xticks(rotation=45)\n",
        "plt.show()"
      ],
      "execution_count": 39,
      "outputs": [
        {
          "output_type": "display_data",
          "data": {
            "image/png": "[encoded data removed]",
            "text/plain": [
              "<Figure size 864x720 with 2 Axes>"
            ]
          },
          "metadata": {
            "tags": [],
            "needs_background": "light"
          }
        }
      ]
    },
    {
      "cell_type": "markdown",
      "metadata": {
        "id": "Mx8gFtVs_Llt"
      },
      "source": [
        "We see that jobType is most strongly correlated with salary, followed by degree, major, and yearsExperience.\n",
        "\n",
        "Among the features, we see that degree and major have a strong degree of correlation and jobType has a moderate degree of correlation with both degree and major."
      ]
    },
    {
      "cell_type": "markdown",
      "metadata": {
        "id": "vjVHDqJqxa_5"
      },
      "source": [
        "##**Predictive Modeling**"
      ]
    },
    {
      "cell_type": "code",
      "metadata": {
        "id": "PaIQvsu-xgyw"
      },
      "source": [
        "from sklearn.ensemble import RandomForestRegressor, GradientBoostingRegressor\n",
        "from sklearn.model_selection import cross_val_score\n",
        "from sklearn.utils import shuffle\n",
        "from sklearn.metrics import mean_squared_error\n",
        "from sklearn.linear_model import LinearRegression\n",
        "from sklearn.preprocessing import LabelEncoder\n",
        "from sklearn.pipeline import make_pipeline\n",
        "from sklearn.decomposition import PCA\n",
        "from sklearn.preprocessing import StandardScaler"
      ],
      "execution_count": 40,
      "outputs": []
    },
    {
      "cell_type": "markdown",
      "metadata": {
        "id": "5HqYD6kjzmlE"
      },
      "source": [
        "###**Define Data class**"
      ]
    },
    {
      "cell_type": "code",
      "metadata": {
        "id": "IvqAEnCMzjQC"
      },
      "source": [
        "class Data:\n",
        "    def __init__(self, train_feature_file, train_target_file, test_file, cat_cols, num_cols, target_col, id_col):\n",
        "        '''create train and test dataframe'''\n",
        "        #create new copies instead of references\n",
        "        self.cat_cols = list(cat_cols)\n",
        "        self.num_cols = list(num_cols)\n",
        "        self.feature_cols = cat_cols + num_cols\n",
        "        self.target_col = target_col\n",
        "        self.id_col = id_col\n",
        "        self.label_encoders = {}\n",
        "        self.train_df = self._create_train_df(train_feature_file, train_target_file)\n",
        "        self.test_df = self._create_test_df(test_file)\n",
        "    \n",
        "    def label_encode_df(self, df, cols):\n",
        "        '''creates one label encoder for each column in the data object instance'''\n",
        "        for col in cols:\n",
        "            if col in self.label_encoders:\n",
        "                #if label encoder already exits for col, use it\n",
        "                self._label_encode(df, col, self.label_encoders[col])\n",
        "            else:\n",
        "                self._label_encode(df, col)\n",
        "    \n",
        "    def inverse_encode_df(self, df, cols):\n",
        "        '''does inverse label encoding'''\n",
        "        for col in cols:\n",
        "            if col in self.label_encoders:\n",
        "                self._inverse_label_encode(df, col)  \n",
        "            else:\n",
        "                raise ValueError(\"label_encoders must be define for each col before calling inverse_encode_df\")\n",
        "\n",
        "    def _label_encode(self, df, col, le=None):\n",
        "        '''label encodes data'''\n",
        "        if le:\n",
        "            df[col] = le.transform(df[col])\n",
        "        else:\n",
        "            le = LabelEncoder()\n",
        "            le.fit(df[col])\n",
        "            df[col] = le.transform(df[col])\n",
        "            self.label_encoders[col] = le\n",
        "        \n",
        "    def _inverse_label_encode(self, df, col):\n",
        "        '''inverse label encodes data'''\n",
        "        le = self.label_encoders[col]\n",
        "        df[col] = le.inverse_transform(df[col])\n",
        " \n",
        "    def _create_train_df(self, train_feature_file, train_target_file, preprocess=True, label_encode=True):\n",
        "        '''loads and merges training data features and targets, preprocesses data, encodes data'''\n",
        "        train_feature_df = self._load_data(train_feature_file)\n",
        "        train_target_df = self._load_data(train_target_file)\n",
        "        train_df = self._merge_dfs(train_feature_df, train_target_df, self.id_col)\n",
        "        if preprocess:\n",
        "            train_df = self._clean_data(train_df)\n",
        "            train_df = self._shuffle_data(train_df)\n",
        "        if label_encode:\n",
        "            self.label_encode_df(train_df, self.cat_cols)\n",
        "        return train_df\n",
        "    \n",
        "    def _create_test_df(self, test_file, label_encode=True):\n",
        "        '''loads and label encodes test data'''\n",
        "        test_df = self._load_data(test_file)\n",
        "        if label_encode:\n",
        "            self.label_encode_df(test_df, self.cat_cols)\n",
        "        return test_df\n",
        "        \n",
        "    def _load_data(self, file):\n",
        "        return pd.read_csv(file)\n",
        "    \n",
        "    def _merge_dfs(self, df1, df2, key=None, left_index=False, right_index=False):\n",
        "        return pd.merge(left=df1, right=df2, how='inner', on=key, left_index=left_index, right_index=right_index)\n",
        "    \n",
        "    def _clean_data(self, df):\n",
        "        '''remove rows that contain salary <= 0 or duplicate job IDs'''\n",
        "        df = df.drop_duplicates(subset='jobId')\n",
        "        df = df[df.salary>0]\n",
        "        return df\n",
        "    \n",
        "    def _shuffle_data(self, df):\n",
        "         return shuffle(df).reset_index()"
      ],
      "execution_count": 41,
      "outputs": []
    },
    {
      "cell_type": "markdown",
      "metadata": {
        "id": "G-2GG16tz0cR"
      },
      "source": [
        "###**Define FeatureGenerator class**"
      ]
    },
    {
      "cell_type": "code",
      "metadata": {
        "id": "-znyzkttzzUf"
      },
      "source": [
        "class FeatureGenerator:\n",
        "    def __init__(self, data):\n",
        "        '''initializes class and creates groupby object for data'''\n",
        "        self.data = data\n",
        "        #able to generate features for new companies, but less accurate\n",
        "        #self.cat_cols = ['jobType', 'degree', 'major', 'industry']\n",
        "        self.cat_cols = data.cat_cols\n",
        "        self.groups = data.train_df.groupby(self.cat_cols)\n",
        "        \n",
        "    def add_group_stats(self):\n",
        "        '''adds group statistics to data stored in data object'''\n",
        "        #get group stats\n",
        "        group_stats_df = self._get_group_stats()\n",
        "        group_stats_df.reset_index(inplace=True)\n",
        "  \n",
        "        #merge derived columns to original df\n",
        "        self.data.train_df = self._merge_new_cols(self.data.train_df, group_stats_df, self.cat_cols, fillna=True)\n",
        "        self.data.test_df = self._merge_new_cols(self.data.test_df, group_stats_df, self.cat_cols, fillna=True)      \n",
        "        \n",
        "        #update column lists\n",
        "        group_stats_cols = ['group_mean', 'group_max', 'group_min', 'group_std', 'group_median']\n",
        "        self._extend_col_lists(self.data, cat_cols=group_stats_cols)  \n",
        "        \n",
        "    def _get_group_stats(self):\n",
        "        '''calculates group statistics'''\n",
        "        target_col = self.data.target_col\n",
        "        group_stats_df = pd.DataFrame({'group_mean': self.groups[target_col].mean()})\n",
        "        group_stats_df['group_max'] = self.groups[target_col].max()\n",
        "        group_stats_df['group_min'] = self.groups[target_col].min()\n",
        "        group_stats_df['group_std'] = self.groups[target_col].std()\n",
        "        group_stats_df['group_median'] = self.groups[target_col].median()\n",
        "        return group_stats_df\n",
        "        \n",
        "    def _merge_new_cols(self, df, new_cols_df, keys, fillna=False):\n",
        "        '''merges engineered features with original df'''\n",
        "        df = pd.merge(df, new_cols_df, on=keys, how='left')\n",
        "        if fillna:\n",
        "            df.fillna(0, inplace=True)\n",
        "        return df\n",
        "        \n",
        "    def _extend_col_lists(self, data, cat_cols=[], num_cols=[]):\n",
        "        '''addes engineered feature cols to data col lists'''\n",
        "        data.num_cols.extend(num_cols)\n",
        "        data.cat_cols.extend(cat_cols)\n",
        "        data.feature_cols.extend(num_cols + cat_cols)"
      ],
      "execution_count": 42,
      "outputs": []
    },
    {
      "cell_type": "markdown",
      "metadata": {
        "id": "IltB7VGP0CYF"
      },
      "source": [
        "###**Define ModelContainer class**"
      ]
    },
    {
      "cell_type": "code",
      "metadata": {
        "id": "4dW7RHrGz_VG"
      },
      "source": [
        "class ModelContainer:\n",
        "    def __init__(self, models=[]):#, default_num_iters=10, verbose_lvl=0):\n",
        "        '''initializes model list and dicts'''\n",
        "        self.models = models\n",
        "        self.best_model = None\n",
        "        self.predictions = None\n",
        "        self.mean_mse = {}\n",
        "        #self.default_num_iters = default_num_iters\n",
        "        #self.verbose_lvl = verbose_lvl\n",
        "        \n",
        "    def add_model(self, model):\n",
        "        self.models.append(model)\n",
        "\n",
        "    def cross_validate(self, data, k=3, num_procs=1):\n",
        "        '''cross validate models using given data'''\n",
        "        feature_df = data.train_df[data.feature_cols]\n",
        "        target_df = data.train_df[data.target_col]\n",
        "        for model in self.models:\n",
        "            neg_mse = cross_val_score(model, feature_df, target_df, cv=k, n_jobs=num_procs, scoring='neg_mean_squared_error')\n",
        "            self.mean_mse[model] = -1.0*np.mean(neg_mse)\n",
        "    \n",
        "    def select_best_model(self):\n",
        "        '''select model with lowest mse'''\n",
        "        self.best_model = min(self.mean_mse, key=self.mean_mse.get)\n",
        "        \n",
        "    def best_model_fit(self, features, targets):\n",
        "        '''fits best model'''\n",
        "        self.best_model.fit(features, targets)\n",
        "    \n",
        "    def best_model_predict(self, features):\n",
        "        '''scores features using best model'''\n",
        "        self.predictions = self.best_model.predict(features)\n",
        "    \n",
        "    @staticmethod\n",
        "    def get_feature_importance(model, cols):\n",
        "        '''retrieves and sorts feature importances'''\n",
        "        if hasattr(model, 'feature_importances_'):\n",
        "            importances = model.feature_importances_\n",
        "            feature_importances = pd.DataFrame({'feature':cols, 'importance':importances})\n",
        "            feature_importances.sort_values(by='importance', ascending=False, inplace=True)\n",
        "            #set index to 'feature'\n",
        "            feature_importances.set_index('feature', inplace=True, drop=True)\n",
        "            return feature_importances\n",
        "        else:\n",
        "            #some models don't have feature_importances_\n",
        "            return \"Feature importances do not exist for given model\"\n",
        "\n",
        "    def print_summary(self):\n",
        "        '''prints summary of models, best model, and feature importance'''\n",
        "        print('\\nModel Summaries:\\n')\n",
        "        for model in self.mean_mse:\n",
        "            print('\\n', model, '- MSE:', self.mean_mse[model])\n",
        "        print('\\nBest Model:\\n', self.best_model)\n",
        "        print('\\nMSE of Best Model\\n', self.mean_mse[self.best_model])\n",
        "        print('\\nFeature Importances\\n', self.get_feature_importance(self.best_model, data.feature_cols))\n",
        "\n",
        "        feature_importances = self.get_feature_importance(self.best_model, data.feature_cols)\n",
        "        feature_importances.plot.bar()\n",
        "        plt.show()\n",
        "    \n",
        "    def save_results(self):\n",
        "        '''saves model, model summary, feature importances, and predictions'''\n",
        "        with open('model.txt', 'w') as file:\n",
        "          file.write(str(self.best_model))\n",
        "        self.get_feature_importance(self.best_model, data.feature_cols).to_csv('feature_importances.csv') \n",
        "        #np.savetxt('predictions.csv', self.predictions, delimiter=',')\n",
        "        Predictions = pd.DataFrame({data.id_col:data.test_df[data.id_col], 'Predicted Salary':self.predictions})\n",
        "        Predictions.set_index(data.id_col, inplace=True, drop=True)\n",
        "        Predictions.to_csv('predictions.csv')"
      ],
      "execution_count": 43,
      "outputs": []
    },
    {
      "cell_type": "markdown",
      "metadata": {
        "id": "LHfBKDEf0NbC"
      },
      "source": [
        "###**Define parameters needed to create and run models**"
      ]
    },
    {
      "cell_type": "code",
      "metadata": {
        "id": "4-v5t1IL0JM6"
      },
      "source": [
        "#define number of processors to use for parallel runs\n",
        "num_procs = 4\n",
        "\n",
        "#set verbose level for models\n",
        "verbose_lvl = 0\n",
        "\n",
        "#define input files\n",
        "train_feature_file = 'data/train_features.csv'\n",
        "train_target_file = 'data/train_salaries.csv'\n",
        "test_file = 'data/test_features.csv'\n",
        "\n",
        "#define variables\n",
        "cat_cols = ['companyId', 'jobType', 'degree', 'major', 'industry']\n",
        "num_cols = ['yearsExperience', 'milesFromMetropolis']\n",
        "target_col = 'salary'\n",
        "id_col = 'jobId'\n",
        "\n",
        "#turn feature engineering on/off\n",
        "engineer_features = True"
      ],
      "execution_count": 44,
      "outputs": []
    },
    {
      "cell_type": "markdown",
      "metadata": {
        "id": "6ubGtxf80Wam"
      },
      "source": [
        "###**Create Data object**"
      ]
    },
    {
      "cell_type": "code",
      "metadata": {
        "id": "QBfHMSFz0TpP"
      },
      "source": [
        "data = Data(train_feature_file, train_target_file, test_file, cat_cols, num_cols, target_col, id_col)"
      ],
      "execution_count": 45,
      "outputs": []
    },
    {
      "cell_type": "markdown",
      "metadata": {
        "id": "bfiikjZH0szf"
      },
      "source": [
        "###**Engineer features**"
      ]
    },
    {
      "cell_type": "code",
      "metadata": {
        "id": "ZhAKdX7Z0b7V"
      },
      "source": [
        "if engineer_features:\n",
        "    feature_generator = FeatureGenerator(data)\n",
        "    feature_generator.add_group_stats()"
      ],
      "execution_count": 46,
      "outputs": []
    },
    {
      "cell_type": "markdown",
      "metadata": {
        "id": "-BXfxlJc05eD"
      },
      "source": [
        "###**Create model container and add models to it**"
      ]
    },
    {
      "cell_type": "code",
      "metadata": {
        "id": "D2zpk6bX0xHv"
      },
      "source": [
        "#create model container\n",
        "models = ModelContainer()\n",
        "\n",
        "#create models -- hyperparameter tuning already done by hand for each model\n",
        "models.add_model(LinearRegression())\n",
        "models.add_model(RandomForestRegressor(n_estimators=60, n_jobs=num_procs, max_depth=15, min_samples_split=80,\n",
        "                                       max_features=8, verbose=verbose_lvl))\n",
        "models.add_model(GradientBoostingRegressor(n_estimators=40, max_depth=7, loss='ls', verbose=verbose_lvl))"
      ],
      "execution_count": 47,
      "outputs": []
    },
    {
      "cell_type": "markdown",
      "metadata": {
        "id": "Gv-lJtlZ1GY3"
      },
      "source": [
        "###**Cross validate models, then select, fit, and score test data with best model**"
      ]
    },
    {
      "cell_type": "code",
      "metadata": {
        "id": "EXnxjN7O1CXh"
      },
      "source": [
        "models.cross_validate(data, k=2, num_procs=num_procs)\n",
        "models.select_best_model()\n",
        "models.best_model_fit(data.train_df[data.feature_cols], data.train_df[data.target_col])\n",
        "models.best_model_predict(data.test_df[data.feature_cols])"
      ],
      "execution_count": 48,
      "outputs": []
    },
    {
      "cell_type": "markdown",
      "metadata": {
        "id": "ZEHSRLKq3p1G"
      },
      "source": [
        "###**Summarize and save results**"
      ]
    },
    {
      "cell_type": "code",
      "metadata": {
        "colab": {
          "base_uri": "https://localhost:8080/",
          "height": 1000
        },
        "id": "i5Rp3dcM1ONI",
        "outputId": "9f3492a0-a2b8-4dc4-892b-a229dda8b855"
      },
      "source": [
        "models.print_summary()\n",
        "models.save_results()"
      ],
      "execution_count": 49,
      "outputs": [
        {
          "output_type": "stream",
          "text": [
            "\n",
            "Model Summaries:\n",
            "\n",
            "\n",
            " LinearRegression(copy_X=True, fit_intercept=True, n_jobs=None, normalize=False) - MSE: 358.17846836529804\n",
            "\n",
            " RandomForestRegressor(bootstrap=True, ccp_alpha=0.0, criterion='mse',\n",
            "                      max_depth=15, max_features=8, max_leaf_nodes=None,\n",
            "                      max_samples=None, min_impurity_decrease=0.0,\n",
            "                      min_impurity_split=None, min_samples_leaf=1,\n",
            "                      min_samples_split=80, min_weight_fraction_leaf=0.0,\n",
            "                      n_estimators=60, n_jobs=4, oob_score=False,\n",
            "                      random_state=None, verbose=0, warm_start=False) - MSE: 313.738557258858\n",
            "\n",
            " GradientBoostingRegressor(alpha=0.9, ccp_alpha=0.0, criterion='friedman_mse',\n",
            "                          init=None, learning_rate=0.1, loss='ls', max_depth=7,\n",
            "                          max_features=None, max_leaf_nodes=None,\n",
            "                          min_impurity_decrease=0.0, min_impurity_split=None,\n",
            "                          min_samples_leaf=1, min_samples_split=2,\n",
            "                          min_weight_fraction_leaf=0.0, n_estimators=40,\n",
            "                          n_iter_no_change=None, presort='deprecated',\n",
            "                          random_state=None, subsample=1.0, tol=0.0001,\n",
            "                          validation_fraction=0.1, verbose=0, warm_start=False) - MSE: 313.12141995344246\n",
            "\n",
            "Best Model:\n",
            " GradientBoostingRegressor(alpha=0.9, ccp_alpha=0.0, criterion='friedman_mse',\n",
            "                          init=None, learning_rate=0.1, loss='ls', max_depth=7,\n",
            "                          max_features=None, max_leaf_nodes=None,\n",
            "                          min_impurity_decrease=0.0, min_impurity_split=None,\n",
            "                          min_samples_leaf=1, min_samples_split=2,\n",
            "                          min_weight_fraction_leaf=0.0, n_estimators=40,\n",
            "                          n_iter_no_change=None, presort='deprecated',\n",
            "                          random_state=None, subsample=1.0, tol=0.0001,\n",
            "                          validation_fraction=0.1, verbose=0, warm_start=False)\n",
            "\n",
            "MSE of Best Model\n",
            " 313.12141995344246\n",
            "\n",
            "Feature Importances\n",
            "                      importance\n",
            "feature                        \n",
            "group_mean             0.690169\n",
            "yearsExperience        0.152483\n",
            "milesFromMetropolis    0.104514\n",
            "group_min              0.015269\n",
            "group_std              0.013361\n",
            "group_max              0.011826\n",
            "group_median           0.010032\n",
            "jobType                0.001527\n",
            "industry               0.000591\n",
            "major                  0.000193\n",
            "degree                 0.000028\n",
            "companyId              0.000007\n"
          ],
          "name": "stdout"
        },
        {
          "output_type": "display_data",
          "data": {
            "image/png": "[encoded data removed]",
            "text/plain": [
              "<Figure size 432x288 with 1 Axes>"
            ]
          },
          "metadata": {
            "tags": [],
            "needs_background": "light"
          }
        }
      ]
    }
  ]
}